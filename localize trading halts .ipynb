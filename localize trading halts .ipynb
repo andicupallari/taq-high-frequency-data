{
 "cells": [
  {
   "cell_type": "code",
   "execution_count": null,
   "metadata": {},
   "outputs": [],
   "source": [
    "%matplotlib inline\n",
    "\n",
    "import pandas as pd\n",
    "import numpy as np\n",
    "from datetime import datetime, date, time, timedelta\n",
    "import matplotlib.pyplot as plt\n",
    "\n",
    "df=pd.read_csv('prices_aug24.csv', dtype={'TIME_M':object})\n",
    "df.TIME_M = pd.to_datetime(df.TIME_M, format='%H:%M:%S.%f')\n",
    "df.set_index('TIME_M', inplace = True)\n",
    "df.head()\n"
   ]
  },
  {
   "cell_type": "code",
   "execution_count": null,
   "metadata": {},
   "outputs": [],
   "source": [
    "df.head()\n",
    "df_sec=df.groupby('SYM_ROOT')['PRICE'].resample('1s').mean().fillna(method = 'ffill').reset_index()\n",
    "\n",
    "df_sec['moving_avg_10min'] = df_sec.groupby('SYM_ROOT')['PRICE'].rolling(600).mean().reset_index(0,drop=True).dropna()"
   ]
  },
  {
   "cell_type": "code",
   "execution_count": null,
   "metadata": {},
   "outputs": [],
   "source": [
    "df_sec = df_sec.dropna()\n",
    "df_sec.head()"
   ]
  },
  {
   "cell_type": "code",
   "execution_count": null,
   "metadata": {},
   "outputs": [],
   "source": [
    "grouped=df.groupby('SYM_ROOT')    \n",
    "    # create a temporary list to hold frames\n",
    "frames = []\n",
    "# iterate over the groups and apply moving average\n",
    "for group in grouped.groups:\n",
    "    frame = grouped.get_group(group)\n",
    "    frame['price_ma5min'] = frame.rolling(600, on='SYM_ROOT').PRICE.mean()  #frame['PRICE'].rolling(600).mean()\n",
    "    frames.append(frame)\n",
    "\n",
    "    # concat the frames for a new dataframe\n",
    "df_new = pd.concat(frames)"
   ]
  },
  {
   "cell_type": "code",
   "execution_count": null,
   "metadata": {},
   "outputs": [],
   "source": [
    "def run_movingaverage(df):\n",
    "\n",
    "    # sort the dataframe by the timestamp\n",
    "   # df.sort_values('TIME_M', inplace=True)\n",
    "\n",
    "    # group the df by stock, resample into 1 seconds mean prices, fill forward first, than backwards.\n",
    "    grouped = df.groupby('SYM_ROOT')['PRICE'].resample('1s').mean().fillna(method = 'ffill').fillna(method = 'bfill')\n",
    "\n",
    "    # create a temporary list to hold frames\n",
    "    frames = []\n",
    "\n",
    "    # iterate over the groups and apply exp. weighted moving average\n",
    "    for group in grouped.groups:\n",
    "        frame = grouped.get_group(group)\n",
    "        frame['price_ma5min'] = frame['PRICE'].rolling('10M').mean()\n",
    "        frames.append(frame)\n",
    "\n",
    "    # concat the frames for a new dataframe\n",
    "    df_new = pd.concat(frames)\n",
    "\n",
    "    return df_new\n",
    "\n",
    "%timeit df_new = run_movingaverage(df)"
   ]
  },
  {
   "cell_type": "code",
   "execution_count": null,
   "metadata": {
    "scrolled": true
   },
   "outputs": [],
   "source": [
    "df=pd.read_csv('prices_aug24.csv')\n",
    "df.set_index('TIME_M', inplace = True)\n",
    "df.groupby('SYM_ROOT')['PRICE'].apply(lambda x:x.rolling(center=False,window=2).mean())\n",
    "df[\"moving average\"] = df.groupby(\"person\").apply(lambda x: x['PRICE'].ewm(span=60).mean())"
   ]
  },
  {
   "cell_type": "code",
   "execution_count": null,
   "metadata": {},
   "outputs": [],
   "source": [
    "#Aggregate in one second, filling forward for missing values. \n",
    "grouped=df.groupby(\"SYM_ROOT\").resample('1s').mean().fillna(method = 'ffill').fillna(method = 'bfill')\n",
    "grouped.head()"
   ]
  }
 ],
 "metadata": {
  "kernelspec": {
   "display_name": "Python (ml)",
   "language": "python",
   "name": "ml"
  },
  "language_info": {
   "codemirror_mode": {
    "name": "ipython",
    "version": 3
   },
   "file_extension": ".py",
   "mimetype": "text/x-python",
   "name": "python",
   "nbconvert_exporter": "python",
   "pygments_lexer": "ipython3",
   "version": "3.7.1"
  }
 },
 "nbformat": 4,
 "nbformat_minor": 2
}
